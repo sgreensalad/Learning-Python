{
 "cells": [
  {
   "cell_type": "code",
   "id": "initial_id",
   "metadata": {
    "collapsed": true,
    "jupyter": {
     "is_executing": true
    }
   },
   "source": [
    "#I, elif, and Else Statements\n",
    "# goes to elif if first statement is false. Can have many elif statements. If all false, goes to else"
   ],
   "outputs": [],
   "execution_count": null
  },
  {
   "metadata": {
    "ExecuteTime": {
     "end_time": "2025-09-04T18:48:01.734266Z",
     "start_time": "2025-09-04T18:48:01.709593Z"
    }
   },
   "cell_type": "code",
   "source": [
    "if(25 < 10):\n",
    "    print(\"It worked\")\n",
    "else:\n",
    "    print(\"It did not work\")"
   ],
   "id": "5b0028a3372a0b80",
   "outputs": [
    {
     "name": "stdout",
     "output_type": "stream",
     "text": [
      "It did not work\n"
     ]
    }
   ],
   "execution_count": 4
  },
  {
   "metadata": {
    "ExecuteTime": {
     "end_time": "2025-09-04T18:52:03.669473Z",
     "start_time": "2025-09-04T18:52:03.515317Z"
    }
   },
   "cell_type": "code",
   "source": [
    "if (25<10):\n",
    "    print(\"It worked\")\n",
    "elif 25<15:\n",
    "    print(\"elif 1 worked\")\n",
    "elif 40<20:\n",
    "    print(\"elif 2 worked\")\n",
    "elif 60<40:\n",
    "    print(\"elif 3 worked\")\n",
    "elif 39<12:\n",
    "    print(\"elif 4 worked\")\n",
    "else:\n",
    "    print(\"cri :'( \")"
   ],
   "id": "8dbcac6fdba38a4e",
   "outputs": [
    {
     "name": "stdout",
     "output_type": "stream",
     "text": [
      "cri :'( \n"
     ]
    }
   ],
   "execution_count": 5
  },
  {
   "metadata": {
    "ExecuteTime": {
     "end_time": "2025-09-04T18:52:24.237881Z",
     "start_time": "2025-09-04T18:52:24.212132Z"
    }
   },
   "cell_type": "code",
   "source": [
    "if (25<10):\n",
    "    print(\"It worked\")\n",
    "elif 25<15:\n",
    "    print(\"elif 1 worked\")\n",
    "elif 40<20:\n",
    "    print(\"elif 2 worked\")\n",
    "elif 60<40:\n",
    "    print(\"elif 3 worked\")\n",
    "elif 39>12:\n",
    "    print(\"elif 4 worked\")\n",
    "else:\n",
    "    print(\"cri :'( \")"
   ],
   "id": "a8c97e5268a4bd6a",
   "outputs": [
    {
     "name": "stdout",
     "output_type": "stream",
     "text": [
      "elif 4 worked\n"
     ]
    }
   ],
   "execution_count": 6
  },
  {
   "metadata": {
    "ExecuteTime": {
     "end_time": "2025-09-04T18:52:51.997037Z",
     "start_time": "2025-09-04T18:52:51.306161Z"
    }
   },
   "cell_type": "code",
   "source": "# can be done in 1 line but I don't like that as much",
   "id": "521da9ff7a32ca7b",
   "outputs": [],
   "execution_count": 7
  },
  {
   "metadata": {
    "ExecuteTime": {
     "end_time": "2025-09-04T18:53:11.095062Z",
     "start_time": "2025-09-04T18:53:11.087910Z"
    }
   },
   "cell_type": "code",
   "source": "# Nested IF statements\n",
   "id": "f6a3c6739d404f88",
   "outputs": [],
   "execution_count": 8
  },
  {
   "metadata": {
    "ExecuteTime": {
     "end_time": "2025-09-04T18:58:34.598439Z",
     "start_time": "2025-09-04T18:58:34.504888Z"
    }
   },
   "cell_type": "code",
   "source": [
    "if (25<10) or (1<3):\n",
    "    print(\"it worked\")\n",
    "    if 10>5:\n",
    "        print(\"The nested if worked :)\")\n",
    "elif 25<15:\n",
    "    print(\"elif 1 worked\")\n",
    "elif 40<20:\n",
    "    print(\"elif 2 worked\")\n",
    "elif 60<40:\n",
    "    print(\"elif 3 worked\")\n",
    "elif 39>12:\n",
    "    print(\"elif 4 worked\")\n",
    "else:\n",
    "    print(\"cri :'( \")"
   ],
   "id": "3774a6dde2e93de7",
   "outputs": [
    {
     "name": "stdout",
     "output_type": "stream",
     "text": [
      "it worked\n",
      "The nested if worked :)\n"
     ]
    }
   ],
   "execution_count": 16
  },
  {
   "metadata": {
    "ExecuteTime": {
     "end_time": "2025-09-04T19:26:20.770298Z",
     "start_time": "2025-09-04T19:26:20.562768Z"
    }
   },
   "cell_type": "code",
   "source": [
    "# also covered nested for loops, and while loops but when trying to run a while loop which didn't end, it crashed and lost progress :'(\n",
    "\n",
    "# break statement\n",
    "number = 0\n",
    "while number <= 5:\n",
    "    print(number)\n",
    "    if number == 8:\n",
    "        break\n",
    "    number = number + 1\n",
    "else:\n",
    "    print(\"now over 5\")\n",
    "\n",
    "    # THIS IS THE ONE THAT MADE IT CRASH but \"8\" was \"3\" (so less than 5 so statement true) so created infinite loop of printing \"3\" until my laptop couldn't cope!"
   ],
   "id": "fa05f8252b684779",
   "outputs": [
    {
     "name": "stdout",
     "output_type": "stream",
     "text": [
      "0\n",
      "1\n",
      "2\n",
      "3\n",
      "4\n",
      "5\n",
      "now over 5\n"
     ]
    }
   ],
   "execution_count": 18
  },
  {
   "metadata": {},
   "cell_type": "code",
   "outputs": [],
   "execution_count": null,
   "source": "",
   "id": "bff36056785c8752"
  }
 ],
 "metadata": {
  "kernelspec": {
   "display_name": "Python 3",
   "language": "python",
   "name": "python3"
  },
  "language_info": {
   "codemirror_mode": {
    "name": "ipython",
    "version": 2
   },
   "file_extension": ".py",
   "mimetype": "text/x-python",
   "name": "python",
   "nbconvert_exporter": "python",
   "pygments_lexer": "ipython2",
   "version": "2.7.6"
  }
 },
 "nbformat": 4,
 "nbformat_minor": 5
}
