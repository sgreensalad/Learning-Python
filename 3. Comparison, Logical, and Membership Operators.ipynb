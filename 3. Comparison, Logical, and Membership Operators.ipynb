{
 "cells": [
  {
   "cell_type": "code",
   "id": "initial_id",
   "metadata": {
    "collapsed": true,
    "ExecuteTime": {
     "end_time": "2025-08-31T18:29:15.384159Z",
     "start_time": "2025-08-31T18:29:15.295968Z"
    }
   },
   "source": [
    "10 == 10\n",
    "\n",
    "#trying to determine if true"
   ],
   "outputs": [
    {
     "data": {
      "text/plain": [
       "True"
      ]
     },
     "execution_count": 3,
     "metadata": {},
     "output_type": "execute_result"
    }
   ],
   "execution_count": 3
  },
  {
   "metadata": {
    "ExecuteTime": {
     "end_time": "2025-08-31T18:29:38.576655Z",
     "start_time": "2025-08-31T18:29:38.564266Z"
    }
   },
   "cell_type": "code",
   "source": [
    "10 == 50\n",
    "\n",
    "#shows you it's not true"
   ],
   "id": "782d0e74fabff806",
   "outputs": [
    {
     "data": {
      "text/plain": [
       "False"
      ]
     },
     "execution_count": 5,
     "metadata": {},
     "output_type": "execute_result"
    }
   ],
   "execution_count": 5
  },
  {
   "metadata": {
    "ExecuteTime": {
     "end_time": "2025-08-31T18:29:48.811564Z",
     "start_time": "2025-08-31T18:29:48.799346Z"
    }
   },
   "cell_type": "code",
   "source": "10 != 50",
   "id": "92814349095f51a5",
   "outputs": [
    {
     "data": {
      "text/plain": [
       "True"
      ]
     },
     "execution_count": 6,
     "metadata": {},
     "output_type": "execute_result"
    }
   ],
   "execution_count": 6
  },
  {
   "metadata": {
    "ExecuteTime": {
     "end_time": "2025-08-31T18:30:22.337533Z",
     "start_time": "2025-08-31T18:30:22.315563Z"
    }
   },
   "cell_type": "code",
   "source": "\"vanilla\" == \"chocolate\"",
   "id": "a0b5ff6bca27b41",
   "outputs": [
    {
     "data": {
      "text/plain": [
       "False"
      ]
     },
     "execution_count": 7,
     "metadata": {},
     "output_type": "execute_result"
    }
   ],
   "execution_count": 7
  },
  {
   "metadata": {
    "ExecuteTime": {
     "end_time": "2025-08-31T18:30:53.873452Z",
     "start_time": "2025-08-31T18:30:53.861191Z"
    }
   },
   "cell_type": "code",
   "source": [
    "x = \"vanilla\"\n",
    "y = \"chocolate\"\n",
    "\n",
    "x == y"
   ],
   "id": "862a7d873e26cf2c",
   "outputs": [
    {
     "data": {
      "text/plain": [
       "False"
      ]
     },
     "execution_count": 10,
     "metadata": {},
     "output_type": "execute_result"
    }
   ],
   "execution_count": 10
  },
  {
   "metadata": {
    "ExecuteTime": {
     "end_time": "2025-08-31T18:31:13.669518Z",
     "start_time": "2025-08-31T18:31:13.655378Z"
    }
   },
   "cell_type": "code",
   "source": "10 <= 10",
   "id": "3feb9a95d12f4743",
   "outputs": [
    {
     "data": {
      "text/plain": [
       "True"
      ]
     },
     "execution_count": 12,
     "metadata": {},
     "output_type": "execute_result"
    }
   ],
   "execution_count": 12
  },
  {
   "metadata": {
    "ExecuteTime": {
     "end_time": "2025-08-31T18:31:23.660879Z",
     "start_time": "2025-08-31T18:31:23.652486Z"
    }
   },
   "cell_type": "code",
   "source": "10 >= 10",
   "id": "fdf0d7d526ab1068",
   "outputs": [
    {
     "data": {
      "text/plain": [
       "True"
      ]
     },
     "execution_count": 13,
     "metadata": {},
     "output_type": "execute_result"
    }
   ],
   "execution_count": 13
  },
  {
   "metadata": {
    "ExecuteTime": {
     "end_time": "2025-08-31T18:31:57.600361Z",
     "start_time": "2025-08-31T18:31:57.580666Z"
    }
   },
   "cell_type": "code",
   "source": [
    "# Logical Operators\n",
    "\n",
    "# AND, OR, NOT"
   ],
   "id": "8d8dd9306f4b10d6",
   "outputs": [],
   "execution_count": 15
  },
  {
   "metadata": {
    "ExecuteTime": {
     "end_time": "2025-08-31T18:32:35.571478Z",
     "start_time": "2025-08-31T18:32:35.560Z"
    }
   },
   "cell_type": "code",
   "source": [
    "(10 > 50) and (50 < 10)\n",
    "\n",
    "# this is false because they are not both true"
   ],
   "id": "a31bcb8908f5d0b8",
   "outputs": [
    {
     "data": {
      "text/plain": [
       "False"
      ]
     },
     "execution_count": 17,
     "metadata": {},
     "output_type": "execute_result"
    }
   ],
   "execution_count": 17
  },
  {
   "metadata": {
    "ExecuteTime": {
     "end_time": "2025-08-31T18:33:43.975140Z",
     "start_time": "2025-08-31T18:33:43.961028Z"
    }
   },
   "cell_type": "code",
   "source": [
    "(10 > 50) or (50 > 10)\n",
    "\n",
    "# because one of them is true, it's showing true"
   ],
   "id": "eef6f0f5e4286d80",
   "outputs": [
    {
     "data": {
      "text/plain": [
       "True"
      ]
     },
     "execution_count": 19,
     "metadata": {},
     "output_type": "execute_result"
    }
   ],
   "execution_count": 19
  },
  {
   "metadata": {
    "ExecuteTime": {
     "end_time": "2025-08-31T18:34:31.901257Z",
     "start_time": "2025-08-31T18:34:31.892669Z"
    }
   },
   "cell_type": "code",
   "source": [
    "(\"vanilla\" > \"chocolate\") or (\"50 < 10\")\n",
    "\n",
    "# this shows as true becuase v is higher in alphabet than c"
   ],
   "id": "18f2c98b2dda3c8d",
   "outputs": [
    {
     "data": {
      "text/plain": [
       "True"
      ]
     },
     "execution_count": 21,
     "metadata": {},
     "output_type": "execute_result"
    }
   ],
   "execution_count": 21
  },
  {
   "metadata": {
    "ExecuteTime": {
     "end_time": "2025-08-31T18:35:09.668585Z",
     "start_time": "2025-08-31T18:35:09.631260Z"
    }
   },
   "cell_type": "code",
   "source": "not(50 > 10)",
   "id": "bbfeb3d2a68026a2",
   "outputs": [
    {
     "data": {
      "text/plain": [
       "False"
      ]
     },
     "execution_count": 22,
     "metadata": {},
     "output_type": "execute_result"
    }
   ],
   "execution_count": 22
  },
  {
   "metadata": {
    "ExecuteTime": {
     "end_time": "2025-08-31T18:35:21.466821Z",
     "start_time": "2025-08-31T18:35:21.461786Z"
    }
   },
   "cell_type": "code",
   "source": "",
   "id": "33cc8670f9210633",
   "outputs": [],
   "execution_count": null
  },
  {
   "metadata": {
    "ExecuteTime": {
     "end_time": "2025-08-31T18:37:52.031213Z",
     "start_time": "2025-08-31T18:37:52.017759Z"
    }
   },
   "cell_type": "code",
   "source": [
    "# Membership Operators\n",
    "\n",
    "# in - true if specified value IS within sequence\n",
    "# not in - true if specified value is NOT within sequence\n",
    "# e.g. contains / does not contain in excel filters\n",
    "\n",
    "ice_cream = \"I love chocolate ice cream\"\n",
    "\"love\" in ice_cream"
   ],
   "id": "d1ea6bae417a17cc",
   "outputs": [
    {
     "data": {
      "text/plain": [
       "True"
      ]
     },
     "execution_count": 24,
     "metadata": {},
     "output_type": "execute_result"
    }
   ],
   "execution_count": 24
  },
  {
   "metadata": {
    "ExecuteTime": {
     "end_time": "2025-08-31T18:38:32.898380Z",
     "start_time": "2025-08-31T18:38:32.883360Z"
    }
   },
   "cell_type": "code",
   "source": [
    "scoops = [1,2,3,4,5]\n",
    "\n",
    "2 in scoops"
   ],
   "id": "b7403498743a3483",
   "outputs": [
    {
     "data": {
      "text/plain": [
       "True"
      ]
     },
     "execution_count": 26,
     "metadata": {},
     "output_type": "execute_result"
    }
   ],
   "execution_count": 26
  },
  {
   "metadata": {
    "ExecuteTime": {
     "end_time": "2025-08-31T18:38:55.190333Z",
     "start_time": "2025-08-31T18:38:55.161154Z"
    }
   },
   "cell_type": "code",
   "source": [
    "wanted_scoops = 8\n",
    "wanted_scoops in scoops"
   ],
   "id": "78d90f10d1433e9f",
   "outputs": [
    {
     "data": {
      "text/plain": [
       "False"
      ]
     },
     "execution_count": 27,
     "metadata": {},
     "output_type": "execute_result"
    }
   ],
   "execution_count": 27
  },
  {
   "metadata": {},
   "cell_type": "code",
   "outputs": [],
   "execution_count": null,
   "source": "",
   "id": "83ed6392c80f2fa1"
  }
 ],
 "metadata": {
  "kernelspec": {
   "display_name": "Python 3",
   "language": "python",
   "name": "python3"
  },
  "language_info": {
   "codemirror_mode": {
    "name": "ipython",
    "version": 2
   },
   "file_extension": ".py",
   "mimetype": "text/x-python",
   "name": "python",
   "nbconvert_exporter": "python",
   "pygments_lexer": "ipython2",
   "version": "2.7.6"
  }
 },
 "nbformat": 4,
 "nbformat_minor": 5
}
