{
 "cells": [
  {
   "cell_type": "code",
   "id": "initial_id",
   "metadata": {
    "collapsed": true,
    "ExecuteTime": {
     "end_time": "2025-08-31T16:58:59.323476Z",
     "start_time": "2025-08-31T16:58:59.295344Z"
    }
   },
   "source": "type(-12+100)",
   "outputs": [
    {
     "data": {
      "text/plain": [
       "int"
      ]
     },
     "execution_count": 6,
     "metadata": {},
     "output_type": "execute_result"
    }
   ],
   "execution_count": 6
  },
  {
   "metadata": {
    "ExecuteTime": {
     "end_time": "2025-08-31T16:58:28.103707Z",
     "start_time": "2025-08-31T16:58:28.093537Z"
    }
   },
   "cell_type": "code",
   "source": "type(12+10.25)",
   "id": "c8a3b8fd7ab66be7",
   "outputs": [
    {
     "data": {
      "text/plain": [
       "float"
      ]
     },
     "execution_count": 2,
     "metadata": {},
     "output_type": "execute_result"
    }
   ],
   "execution_count": 2
  },
  {
   "metadata": {
    "ExecuteTime": {
     "end_time": "2025-08-31T16:58:34.673165Z",
     "start_time": "2025-08-31T16:58:34.654789Z"
    }
   },
   "cell_type": "code",
   "source": [
    "type(12+3j)\n",
    "#j is the only letter that will work for imaginary numbers"
   ],
   "id": "7e5fb787a844507f",
   "outputs": [
    {
     "data": {
      "text/plain": [
       "complex"
      ]
     },
     "execution_count": 4,
     "metadata": {},
     "output_type": "execute_result"
    }
   ],
   "execution_count": 4
  },
  {
   "metadata": {
    "ExecuteTime": {
     "end_time": "2025-08-31T16:59:03.787476Z",
     "start_time": "2025-08-31T16:59:03.769384Z"
    }
   },
   "cell_type": "code",
   "source": [
    "# Boolean - either true or false\n",
    "\n",
    "type(1>5)"
   ],
   "id": "5b8541e52ea38319",
   "outputs": [
    {
     "data": {
      "text/plain": [
       "bool"
      ]
     },
     "execution_count": 7,
     "metadata": {},
     "output_type": "execute_result"
    }
   ],
   "execution_count": 7
  },
  {
   "metadata": {
    "ExecuteTime": {
     "end_time": "2025-08-31T16:59:58.070365Z",
     "start_time": "2025-08-31T16:59:57.996595Z"
    }
   },
   "cell_type": "code",
   "source": "1>5",
   "id": "1d399a63bc7feb3a",
   "outputs": [
    {
     "data": {
      "text/plain": [
       "False"
      ]
     },
     "execution_count": 9,
     "metadata": {},
     "output_type": "execute_result"
    }
   ],
   "execution_count": 9
  },
  {
   "metadata": {
    "ExecuteTime": {
     "end_time": "2025-08-31T17:01:08.792496Z",
     "start_time": "2025-08-31T17:01:08.761348Z"
    }
   },
   "cell_type": "code",
   "source": [
    "# Strings\n",
    "'Single quote'"
   ],
   "id": "40f35cb8236609c7",
   "outputs": [
    {
     "data": {
      "text/plain": [
       "'Single quote'"
      ]
     },
     "execution_count": 13,
     "metadata": {},
     "output_type": "execute_result"
    }
   ],
   "execution_count": 13
  },
  {
   "metadata": {
    "ExecuteTime": {
     "end_time": "2025-08-31T17:01:14.840215Z",
     "start_time": "2025-08-31T17:01:14.737756Z"
    }
   },
   "cell_type": "code",
   "source": "\"Double quote\"",
   "id": "f2228ecce4e8e187",
   "outputs": [
    {
     "data": {
      "text/plain": [
       "'Double quote'"
      ]
     },
     "execution_count": 14,
     "metadata": {},
     "output_type": "execute_result"
    }
   ],
   "execution_count": 14
  },
  {
   "metadata": {
    "ExecuteTime": {
     "end_time": "2025-08-31T17:01:23.068437Z",
     "start_time": "2025-08-31T17:01:23.057095Z"
    }
   },
   "cell_type": "code",
   "source": "\"\"",
   "id": "2c4ad7417bc71926",
   "outputs": [
    {
     "data": {
      "text/plain": [
       "''"
      ]
     },
     "execution_count": 15,
     "metadata": {},
     "output_type": "execute_result"
    }
   ],
   "execution_count": 15
  },
  {
   "metadata": {
    "ExecuteTime": {
     "end_time": "2025-08-31T17:01:23.328451Z",
     "start_time": "2025-08-31T17:01:23.323307Z"
    }
   },
   "cell_type": "code",
   "source": "",
   "id": "40ccd30250a538c2",
   "outputs": [],
   "execution_count": null
  },
  {
   "metadata": {
    "ExecuteTime": {
     "end_time": "2025-08-31T17:01:34.476792Z",
     "start_time": "2025-08-31T17:01:34.465488Z"
    }
   },
   "cell_type": "code",
   "source": "multiline = \"\"",
   "id": "f6abd3bdfba9e38f",
   "outputs": [],
   "execution_count": 16
  },
  {
   "metadata": {
    "ExecuteTime": {
     "end_time": "2025-08-31T17:01:54.541326Z",
     "start_time": "2025-08-31T17:01:54.498996Z"
    }
   },
   "cell_type": "code",
   "source": "multiline = \"\"",
   "id": "55cf1e36965a80be",
   "outputs": [],
   "execution_count": 17
  },
  {
   "metadata": {
    "ExecuteTime": {
     "end_time": "2025-08-31T17:03:58.854897Z",
     "start_time": "2025-08-31T17:03:58.842943Z"
    }
   },
   "cell_type": "code",
   "source": [
    "multiline =\n",
    "          \"\"\"He wrote a little poem\n",
    "          It went over several lines\n",
    "          To show how the text appears\"\"\""
   ],
   "id": "fee49e3c39a03524",
   "outputs": [
    {
     "ename": "SyntaxError",
     "evalue": "invalid syntax (3306423635.py, line 1)",
     "output_type": "error",
     "traceback": [
      "  \u001B[36mCell\u001B[39m\u001B[36m \u001B[39m\u001B[32mIn[22]\u001B[39m\u001B[32m, line 1\u001B[39m\n\u001B[31m    \u001B[39m\u001B[31mmultiline =\u001B[39m\n                ^\n\u001B[31mSyntaxError\u001B[39m\u001B[31m:\u001B[39m invalid syntax\n"
     ]
    }
   ],
   "execution_count": 22
  },
  {
   "metadata": {
    "ExecuteTime": {
     "end_time": "2025-08-31T17:05:05.705668Z",
     "start_time": "2025-08-31T17:05:05.699422Z"
    }
   },
   "cell_type": "code",
   "source": [
    "multiline = \"\"\"\n",
    "The ice cream vanquished\n",
    "my longing for sweets,\n",
    "upon this diet I look away,\n",
    "it longer exists on this day.\n",
    "\"\"\""
   ],
   "id": "399c56ca1b73ee51",
   "outputs": [],
   "execution_count": 24
  },
  {
   "metadata": {
    "ExecuteTime": {
     "end_time": "2025-08-31T17:05:14.370151Z",
     "start_time": "2025-08-31T17:05:14.358592Z"
    }
   },
   "cell_type": "code",
   "source": "print(multiline)",
   "id": "a554964ff610205f",
   "outputs": [
    {
     "name": "stdout",
     "output_type": "stream",
     "text": [
      "\n",
      "The ice cream vanquished\n",
      "my longing for sweets, \n",
      "upon this diet I look away, \n",
      "it longer exists on this day.\n",
      "\n"
     ]
    }
   ],
   "execution_count": 25
  },
  {
   "metadata": {
    "ExecuteTime": {
     "end_time": "2025-08-31T17:06:15.921546Z",
     "start_time": "2025-08-31T17:06:15.864271Z"
    }
   },
   "cell_type": "code",
   "source": [
    "multiline = \"\"\"\n",
    "Ok so the triple quotes\n",
    "need to be on their own lines.\n",
    "Is that correct?\n",
    "\"\"\""
   ],
   "id": "b1f02390b7a55647",
   "outputs": [],
   "execution_count": 26
  },
  {
   "metadata": {
    "ExecuteTime": {
     "end_time": "2025-08-31T17:06:20.605985Z",
     "start_time": "2025-08-31T17:06:20.592696Z"
    }
   },
   "cell_type": "code",
   "source": "print(multiline)",
   "id": "51fabd0e84fe4fb4",
   "outputs": [
    {
     "name": "stdout",
     "output_type": "stream",
     "text": [
      "\n",
      "Ok so the triple quotes\n",
      "need to be on their own lines. \n",
      "Is that correct? \n",
      "\n"
     ]
    }
   ],
   "execution_count": 27
  },
  {
   "metadata": {
    "ExecuteTime": {
     "end_time": "2025-08-31T17:07:59.534701Z",
     "start_time": "2025-08-31T17:07:59.446722Z"
    }
   },
   "cell_type": "code",
   "source": "#If want to use ' or \" within the string then need to use triple quotes.",
   "id": "c680525680e1a9f4",
   "outputs": [],
   "execution_count": 28
  },
  {
   "metadata": {
    "ExecuteTime": {
     "end_time": "2025-08-31T17:08:11.899995Z",
     "start_time": "2025-08-31T17:08:11.889210Z"
    }
   },
   "cell_type": "code",
   "source": "a = \"Hello World\"",
   "id": "a4dbfc2eb381b053",
   "outputs": [],
   "execution_count": 29
  },
  {
   "metadata": {
    "ExecuteTime": {
     "end_time": "2025-08-31T17:08:35.375467Z",
     "start_time": "2025-08-31T17:08:35.357087Z"
    }
   },
   "cell_type": "code",
   "source": "print(a[:5])",
   "id": "72cc60cb5c862641",
   "outputs": [
    {
     "name": "stdout",
     "output_type": "stream",
     "text": [
      "Hello\n"
     ]
    }
   ],
   "execution_count": 30
  },
  {
   "metadata": {
    "ExecuteTime": {
     "end_time": "2025-08-31T17:09:08.107170Z",
     "start_time": "2025-08-31T17:09:08.090837Z"
    }
   },
   "cell_type": "code",
   "source": "# the \"[:5] gives us all of the characters of the string up to e.g. 5",
   "id": "acd1d7b1066554f3",
   "outputs": [],
   "execution_count": 31
  },
  {
   "metadata": {
    "ExecuteTime": {
     "end_time": "2025-08-31T17:09:52.102657Z",
     "start_time": "2025-08-31T17:09:52.089490Z"
    }
   },
   "cell_type": "code",
   "source": [
    "print(a[2:5])\n",
    "\n",
    "# this gives us the characters in positions 2 - 5. Indexing starts at 0 so llo is 2-5 not 3-6."
   ],
   "id": "52480cbe27902740",
   "outputs": [
    {
     "name": "stdout",
     "output_type": "stream",
     "text": [
      "llo\n"
     ]
    }
   ],
   "execution_count": 34
  },
  {
   "metadata": {
    "ExecuteTime": {
     "end_time": "2025-08-31T17:11:11.239586Z",
     "start_time": "2025-08-31T17:11:11.102267Z"
    }
   },
   "cell_type": "code",
   "source": [
    "# List\n",
    "# the square brackets is what makes a list a list\n",
    "[1, 2, 3]"
   ],
   "id": "4dd1cc6a780022da",
   "outputs": [
    {
     "data": {
      "text/plain": [
       "[1, 2, 3]"
      ]
     },
     "execution_count": 35,
     "metadata": {},
     "output_type": "execute_result"
    }
   ],
   "execution_count": 35
  },
  {
   "metadata": {
    "ExecuteTime": {
     "end_time": "2025-08-31T17:11:39.078577Z",
     "start_time": "2025-08-31T17:11:39.041351Z"
    }
   },
   "cell_type": "code",
   "source": "[\"cookie dough\", \"strawberry\", \"chocolate\"]",
   "id": "8e6098558c5ec03a",
   "outputs": [
    {
     "data": {
      "text/plain": [
       "['cookie dough', 'strawberry', 'chocolate']"
      ]
     },
     "execution_count": 36,
     "metadata": {},
     "output_type": "execute_result"
    }
   ],
   "execution_count": 36
  },
  {
   "metadata": {
    "ExecuteTime": {
     "end_time": "2025-08-31T17:13:05.133612Z",
     "start_time": "2025-08-31T17:13:05.116971Z"
    }
   },
   "cell_type": "code",
   "source": [
    "[\"vanilla\", 3, [\"scoops\", \"spoon\" ], True]\n",
    "\n",
    "# the 't' in True HAS to be a capital letter. Error otherwise"
   ],
   "id": "336fce0fe9f0975",
   "outputs": [
    {
     "data": {
      "text/plain": [
       "['vanilla', 3, ['scoops', 'spoon'], True]"
      ]
     },
     "execution_count": 39,
     "metadata": {},
     "output_type": "execute_result"
    }
   ],
   "execution_count": 39
  },
  {
   "metadata": {
    "ExecuteTime": {
     "end_time": "2025-08-31T17:14:13.223444Z",
     "start_time": "2025-08-31T17:14:13.203400Z"
    }
   },
   "cell_type": "code",
   "source": [
    "ice_cream = [\"cookie dough\", \"strawberry\", \"chocolate\"]\n",
    "ice_cream.append(\"salted caramel\")\n",
    "\n",
    "ice_cream"
   ],
   "id": "2353db6096d7185f",
   "outputs": [
    {
     "data": {
      "text/plain": [
       "['cookie dough', 'strawberry', 'chocolate', 'salted caramel']"
      ]
     },
     "execution_count": 41,
     "metadata": {},
     "output_type": "execute_result"
    }
   ],
   "execution_count": 41
  },
  {
   "metadata": {
    "ExecuteTime": {
     "end_time": "2025-08-31T17:15:25.642702Z",
     "start_time": "2025-08-31T17:15:25.574177Z"
    }
   },
   "cell_type": "code",
   "source": [
    "ice_cream[0] = \"butter pecan\"\n",
    "ice_cream\n",
    "\n",
    "# this changes the list item at position 0  so cookie dough --> butter pecan"
   ],
   "id": "406fd0a3a0bb102e",
   "outputs": [
    {
     "data": {
      "text/plain": [
       "['butter pecan', 'strawberry', 'chocolate', 'salted caramel']"
      ]
     },
     "execution_count": 42,
     "metadata": {},
     "output_type": "execute_result"
    }
   ],
   "execution_count": 42
  },
  {
   "metadata": {
    "ExecuteTime": {
     "end_time": "2025-08-31T17:15:44.164800Z",
     "start_time": "2025-08-31T17:15:44.147291Z"
    }
   },
   "cell_type": "code",
   "source": "nested_list = [\"vanilla\", 3, [\"scoops\", \"spoon\" ], True]",
   "id": "f62405b0faec0789",
   "outputs": [],
   "execution_count": 43
  },
  {
   "metadata": {
    "ExecuteTime": {
     "end_time": "2025-08-31T17:15:57.823282Z",
     "start_time": "2025-08-31T17:15:57.783077Z"
    }
   },
   "cell_type": "code",
   "source": "nested_list[2]",
   "id": "2ba38a571dcfe17f",
   "outputs": [
    {
     "data": {
      "text/plain": [
       "['scoops', 'spoon']"
      ]
     },
     "execution_count": 44,
     "metadata": {},
     "output_type": "execute_result"
    }
   ],
   "execution_count": 44
  },
  {
   "metadata": {
    "ExecuteTime": {
     "end_time": "2025-08-31T17:16:19.102326Z",
     "start_time": "2025-08-31T17:16:19.090309Z"
    }
   },
   "cell_type": "code",
   "source": "nested_list[2] [1]",
   "id": "aee3f16cb3adb761",
   "outputs": [
    {
     "data": {
      "text/plain": [
       "'spoon'"
      ]
     },
     "execution_count": 46,
     "metadata": {},
     "output_type": "execute_result"
    }
   ],
   "execution_count": 46
  },
  {
   "metadata": {
    "ExecuteTime": {
     "end_time": "2025-08-31T17:17:11.449105Z",
     "start_time": "2025-08-31T17:17:11.440229Z"
    }
   },
   "cell_type": "code",
   "source": "#Tuple - stores data but cannot be altered",
   "id": "749868c0ead069d0",
   "outputs": [],
   "execution_count": 50
  },
  {
   "metadata": {
    "ExecuteTime": {
     "end_time": "2025-08-31T17:17:12.690913Z",
     "start_time": "2025-08-31T17:17:12.680291Z"
    }
   },
   "cell_type": "code",
   "source": "tuple_scoops = (1, 2, 3, 2, 1)",
   "id": "262f56c49655094",
   "outputs": [],
   "execution_count": 51
  },
  {
   "metadata": {
    "ExecuteTime": {
     "end_time": "2025-08-31T17:17:30.547045Z",
     "start_time": "2025-08-31T17:17:30.532988Z"
    }
   },
   "cell_type": "code",
   "source": "tuple_scoops[0]",
   "id": "ae01570656ab6e47",
   "outputs": [
    {
     "data": {
      "text/plain": [
       "1"
      ]
     },
     "execution_count": 52,
     "metadata": {},
     "output_type": "execute_result"
    }
   ],
   "execution_count": 52
  },
  {
   "metadata": {
    "ExecuteTime": {
     "end_time": "2025-08-31T17:18:23.836931Z",
     "start_time": "2025-08-31T17:18:23.614808Z"
    }
   },
   "cell_type": "code",
   "source": [
    "tuple_scoops.append(3)\n",
    "#does not work because cannot change or add anything to a tuple\n",
    "#used when data never going to change but less popular than lists"
   ],
   "id": "f6c78eaee9ac31d",
   "outputs": [
    {
     "ename": "AttributeError",
     "evalue": "'tuple' object has no attribute 'append'",
     "output_type": "error",
     "traceback": [
      "\u001B[31m---------------------------------------------------------------------------\u001B[39m",
      "\u001B[31mAttributeError\u001B[39m                            Traceback (most recent call last)",
      "\u001B[36mCell\u001B[39m\u001B[36m \u001B[39m\u001B[32mIn[55]\u001B[39m\u001B[32m, line 1\u001B[39m\n\u001B[32m----> \u001B[39m\u001B[32m1\u001B[39m \u001B[43mtuple_scoops\u001B[49m\u001B[43m.\u001B[49m\u001B[43mappend\u001B[49m(\u001B[32m3\u001B[39m)\n\u001B[32m      2\u001B[39m \u001B[38;5;66;03m#does not work because cannot change or add anything to a tuple\u001B[39;00m\n",
      "\u001B[31mAttributeError\u001B[39m: 'tuple' object has no attribute 'append'"
     ]
    }
   ],
   "execution_count": 55
  },
  {
   "metadata": {
    "ExecuteTime": {
     "end_time": "2025-08-31T17:19:21.666660Z",
     "start_time": "2025-08-31T17:19:21.336728Z"
    }
   },
   "cell_type": "code",
   "source": [
    "# Sets\n",
    "\n",
    "daily_pints = {1,2,3}"
   ],
   "id": "b59173f3e2720b72",
   "outputs": [],
   "execution_count": 56
  },
  {
   "metadata": {
    "ExecuteTime": {
     "end_time": "2025-08-31T17:19:32.064119Z",
     "start_time": "2025-08-31T17:19:31.989272Z"
    }
   },
   "cell_type": "code",
   "source": "type(daily_pints)",
   "id": "7e539956f24495c1",
   "outputs": [
    {
     "data": {
      "text/plain": [
       "set"
      ]
     },
     "execution_count": 57,
     "metadata": {},
     "output_type": "execute_result"
    }
   ],
   "execution_count": 57
  },
  {
   "metadata": {
    "ExecuteTime": {
     "end_time": "2025-08-31T17:19:39.776247Z",
     "start_time": "2025-08-31T17:19:39.758037Z"
    }
   },
   "cell_type": "code",
   "source": "print(daily_pints)",
   "id": "fbb9b7edfa9c2a8f",
   "outputs": [
    {
     "name": "stdout",
     "output_type": "stream",
     "text": [
      "{1, 2, 3}\n"
     ]
    }
   ],
   "execution_count": 58
  },
  {
   "metadata": {
    "ExecuteTime": {
     "end_time": "2025-08-31T17:20:30.434998Z",
     "start_time": "2025-08-31T17:20:30.302740Z"
    }
   },
   "cell_type": "code",
   "source": [
    "daily_pints_log = {1,2,41,2,3,5, 6, 3,2}\n",
    "print(daily_pints_log)"
   ],
   "id": "e389bea5beb735da",
   "outputs": [
    {
     "name": "stdout",
     "output_type": "stream",
     "text": [
      "{1, 2, 3, 5, 6, 41}\n"
     ]
    }
   ],
   "execution_count": 59
  },
  {
   "metadata": {
    "ExecuteTime": {
     "end_time": "2025-08-31T17:20:50.751134Z",
     "start_time": "2025-08-31T17:20:50.722702Z"
    }
   },
   "cell_type": "code",
   "source": "# prints only unique values",
   "id": "77885d6426db1afd",
   "outputs": [],
   "execution_count": 60
  },
  {
   "metadata": {
    "ExecuteTime": {
     "end_time": "2025-08-31T17:21:42.084240Z",
     "start_time": "2025-08-31T17:21:41.991413Z"
    }
   },
   "cell_type": "code",
   "source": "wifes_daily_pints_log = {1, 3, 4,5, 73, 41}",
   "id": "c319ec8ae80192da",
   "outputs": [],
   "execution_count": 61
  },
  {
   "metadata": {
    "ExecuteTime": {
     "end_time": "2025-08-31T17:22:13.574090Z",
     "start_time": "2025-08-31T17:22:13.556484Z"
    }
   },
   "cell_type": "code",
   "source": "print(daily_pints_log | wifes_daily_pints_log)",
   "id": "fb9f81c0bdce2a2a",
   "outputs": [
    {
     "name": "stdout",
     "output_type": "stream",
     "text": [
      "{1, 2, 3, 4, 5, 6, 41, 73}\n"
     ]
    }
   ],
   "execution_count": 62
  },
  {
   "metadata": {
    "ExecuteTime": {
     "end_time": "2025-08-31T18:13:45.644945Z",
     "start_time": "2025-08-31T18:13:45.181115Z"
    }
   },
   "cell_type": "code",
   "source": "#shows all unique vales in combined set",
   "id": "835e3db05c01d88c",
   "outputs": [],
   "execution_count": 63
  },
  {
   "metadata": {
    "ExecuteTime": {
     "end_time": "2025-08-31T18:14:02.328803Z",
     "start_time": "2025-08-31T18:14:02.061254Z"
    }
   },
   "cell_type": "code",
   "source": "print(daily_pints_log & wifes_daily_pints_log)",
   "id": "5b6cb3741e691558",
   "outputs": [
    {
     "name": "stdout",
     "output_type": "stream",
     "text": [
      "{1, 3, 5, 41}\n"
     ]
    }
   ],
   "execution_count": 64
  },
  {
   "metadata": {
    "ExecuteTime": {
     "end_time": "2025-08-31T18:16:05.288911Z",
     "start_time": "2025-08-31T18:16:05.189320Z"
    }
   },
   "cell_type": "code",
   "source": "# shows unique values that both sets have in common",
   "id": "3f2ec36a442bc54f",
   "outputs": [],
   "execution_count": 65
  },
  {
   "metadata": {
    "ExecuteTime": {
     "end_time": "2025-08-31T18:16:19.751984Z",
     "start_time": "2025-08-31T18:16:19.735704Z"
    }
   },
   "cell_type": "code",
   "source": "print(daily_pints_log - wifes_daily_pints_log)",
   "id": "b3b081945ee835fc",
   "outputs": [
    {
     "name": "stdout",
     "output_type": "stream",
     "text": [
      "{2, 6}\n"
     ]
    }
   ],
   "execution_count": 66
  },
  {
   "metadata": {
    "ExecuteTime": {
     "end_time": "2025-08-31T18:17:39.749108Z",
     "start_time": "2025-08-31T18:17:39.741229Z"
    }
   },
   "cell_type": "code",
   "source": "# shows all of the numbers that ARE in daily but NOT in wife's daily",
   "id": "1fd809e408c7e3a3",
   "outputs": [],
   "execution_count": 67
  },
  {
   "metadata": {
    "ExecuteTime": {
     "end_time": "2025-08-31T18:18:04.144553Z",
     "start_time": "2025-08-31T18:18:04.124313Z"
    }
   },
   "cell_type": "code",
   "source": "print(wifes_daily_pints_log ^ daily_pints_log)",
   "id": "e05b3328fd1addd7",
   "outputs": [
    {
     "name": "stdout",
     "output_type": "stream",
     "text": [
      "{73, 2, 4, 6}\n"
     ]
    }
   ],
   "execution_count": 68
  },
  {
   "metadata": {
    "ExecuteTime": {
     "end_time": "2025-08-31T18:18:27.653704Z",
     "start_time": "2025-08-31T18:18:27.642297Z"
    }
   },
   "cell_type": "code",
   "source": "# shows values that are in 1 or other but not in both",
   "id": "b2975b75522024b3",
   "outputs": [],
   "execution_count": 69
  },
  {
   "metadata": {
    "ExecuteTime": {
     "end_time": "2025-08-31T18:18:29.060429Z",
     "start_time": "2025-08-31T18:18:28.923282Z"
    }
   },
   "cell_type": "code",
   "source": "",
   "id": "88e662c0f170f4bb",
   "outputs": [],
   "execution_count": null
  },
  {
   "metadata": {
    "ExecuteTime": {
     "end_time": "2025-08-31T18:20:21.931940Z",
     "start_time": "2025-08-31T18:20:21.825549Z"
    }
   },
   "cell_type": "code",
   "source": [
    "# Dictionaries\n",
    "#Key/Value pair\n",
    "\n",
    "dict_cream = {\"name\":\"Alex Freburg\", \"weekly intake\":5, \"favourite ice creams\":[\"mint choc chip\", \"chocolate\"]}\n",
    "\n",
    "print(dict_cream)"
   ],
   "id": "861a33d85fc21091",
   "outputs": [
    {
     "name": "stdout",
     "output_type": "stream",
     "text": [
      "{'name': 'Alex Freburg', 'weekly intake': 5, 'favourite ice creams': ['mint choc chip', 'chocolate']}\n"
     ]
    }
   ],
   "execution_count": 71
  },
  {
   "metadata": {
    "ExecuteTime": {
     "end_time": "2025-08-31T18:20:42.201369Z",
     "start_time": "2025-08-31T18:20:42.144857Z"
    }
   },
   "cell_type": "code",
   "source": "dict_cream.values()",
   "id": "b1711d37427cfbe0",
   "outputs": [
    {
     "data": {
      "text/plain": [
       "dict_values(['Alex Freburg', 5, ['mint choc chip', 'chocolate']])"
      ]
     },
     "execution_count": 72,
     "metadata": {},
     "output_type": "execute_result"
    }
   ],
   "execution_count": 72
  },
  {
   "metadata": {
    "ExecuteTime": {
     "end_time": "2025-08-31T18:21:05.833882Z",
     "start_time": "2025-08-31T18:21:05.820101Z"
    }
   },
   "cell_type": "code",
   "source": "dict_cream.keys()",
   "id": "92e4a2a7d1ad0e62",
   "outputs": [
    {
     "data": {
      "text/plain": [
       "dict_keys(['name', 'weekly intake', 'favourite ice creams'])"
      ]
     },
     "execution_count": 74,
     "metadata": {},
     "output_type": "execute_result"
    }
   ],
   "execution_count": 74
  },
  {
   "metadata": {
    "ExecuteTime": {
     "end_time": "2025-08-31T18:21:19.496139Z",
     "start_time": "2025-08-31T18:21:19.485058Z"
    }
   },
   "cell_type": "code",
   "source": "dict_cream.items()",
   "id": "89ee432f8cc8dc26",
   "outputs": [
    {
     "data": {
      "text/plain": [
       "dict_items([('name', 'Alex Freburg'), ('weekly intake', 5), ('favourite ice creams', ['mint choc chip', 'chocolate'])])"
      ]
     },
     "execution_count": 75,
     "metadata": {},
     "output_type": "execute_result"
    }
   ],
   "execution_count": 75
  },
  {
   "metadata": {
    "ExecuteTime": {
     "end_time": "2025-08-31T18:22:38.948693Z",
     "start_time": "2025-08-31T18:22:38.936600Z"
    }
   },
   "cell_type": "code",
   "source": [
    "# cannot index like with a list. Need to call item by key e.g.\n",
    "\n",
    "dict_cream[\"name\"]"
   ],
   "id": "40318e671920417b",
   "outputs": [
    {
     "data": {
      "text/plain": [
       "'Alex Freburg'"
      ]
     },
     "execution_count": 76,
     "metadata": {},
     "output_type": "execute_result"
    }
   ],
   "execution_count": 76
  },
  {
   "metadata": {
    "ExecuteTime": {
     "end_time": "2025-08-31T18:25:12.107460Z",
     "start_time": "2025-08-31T18:25:12.091519Z"
    }
   },
   "cell_type": "code",
   "source": [
    "#can update dictionaries\n",
    "\n",
    "dict_cream.update({\"name\":\"Christine Freburg\", \"weekly intake\":5, \"weight\":300})\n",
    "\n",
    "print(dict_cream)"
   ],
   "id": "7e1e6ad29957843c",
   "outputs": [
    {
     "name": "stdout",
     "output_type": "stream",
     "text": [
      "{'name': 'Christine Freburg', 'weekly intake': 5, 'favourite ice creams': ['mint choc chip', 'chocolate'], 'weight': 300}\n"
     ]
    }
   ],
   "execution_count": 78
  },
  {
   "metadata": {
    "ExecuteTime": {
     "end_time": "2025-08-31T18:26:35.695286Z",
     "start_time": "2025-08-31T18:26:35.682045Z"
    }
   },
   "cell_type": "code",
   "source": [
    "#to delete key value\n",
    "\n",
    "del dict_cream[\"weight\"]\n",
    "\n",
    "print(dict_cream)"
   ],
   "id": "b4cac95c73bccbd5",
   "outputs": [
    {
     "name": "stdout",
     "output_type": "stream",
     "text": [
      "{'name': 'Christine Freburg', 'weekly intake': 5, 'favourite ice creams': ['mint choc chip', 'chocolate']}\n"
     ]
    }
   ],
   "execution_count": 79
  },
  {
   "metadata": {},
   "cell_type": "code",
   "outputs": [],
   "execution_count": null,
   "source": "",
   "id": "3d09cbee2af9bcdf"
  }
 ],
 "metadata": {
  "kernelspec": {
   "display_name": "Python 3",
   "language": "python",
   "name": "python3"
  },
  "language_info": {
   "codemirror_mode": {
    "name": "ipython",
    "version": 2
   },
   "file_extension": ".py",
   "mimetype": "text/x-python",
   "name": "python",
   "nbconvert_exporter": "python",
   "pygments_lexer": "ipython2",
   "version": "2.7.6"
  }
 },
 "nbformat": 4,
 "nbformat_minor": 5
}
